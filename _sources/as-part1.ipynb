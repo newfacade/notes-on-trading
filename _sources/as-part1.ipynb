{
 "cells": [
  {
   "cell_type": "markdown",
   "id": "e4e960ad-cfff-4c98-81f4-69b1dd06faba",
   "metadata": {},
   "source": [
    "# Avellaneda-Stoikov Model - Part1\n",
    "\n",
    "```{note}\n",
    "Avellaneda-Stoikov 模型是一种用于高频交易（HFT）中的做市策略模型，旨在为做市商提供动态调整买卖报价的方法，以实现盈利最大化。\n",
    "```\n",
    "\n",
    "Paper: https://math.nyu.edu/~avellane/HighFrequencyTrading.pdf"
   ]
  },
  {
   "cell_type": "markdown",
   "id": "1e9c1339-5757-4de2-8494-7c6992ccf997",
   "metadata": {},
   "source": [
    "## The mid-price of the stock\n",
    "\n",
    "For simplicity, we assume the mid-market price, or mid-price, of the stock evolves according to:\n",
    "\n",
    "$$\\mathrm{d}S_{u} = \\sigma\\mathrm{d}W_{u}$$\n",
    "\n",
    "with initial value $S_{t}=s$. Here $W_{t}$ is a standard one-dimensional\n",
    "Brownian motion (一维布朗运动) and $\\sigma$ is constant (波动率).\n",
    "\n",
    "```{tip}\n",
    "![](images/brownian.png)\n",
    "```\n",
    "\n",
    "$$S_{T}-S_{t}\\sim\\mathcal{N}(0,\\,\\sigma^{2}(T-t))$$"
   ]
  },
  {
   "cell_type": "code",
   "execution_count": 1,
   "id": "c6aadc80-7cc0-40da-b14d-4bc4f9603d12",
   "metadata": {
    "tags": []
   },
   "outputs": [
    {
     "name": "stdout",
     "output_type": "stream",
     "text": [
      "86400\n",
      "[1716912000000, '3861.10000000', '3861.11000000', '3861.10000000', '3861.11000000', '0.36010000', 1716912000999, '1390.38375800', 21, '0.16480000', '636.31092800', '0']\n"
     ]
    }
   ],
   "source": [
    "from utils import *\n",
    "\n",
    "lst = read_jsonl('2024-05-29.json')\n",
    "show_list(lst)"
   ]
  },
  {
   "cell_type": "code",
   "execution_count": 2,
   "id": "ce152863-448b-4753-89ae-ad2f5ccd7e31",
   "metadata": {
    "tags": []
   },
   "outputs": [
    {
     "name": "stdout",
     "output_type": "stream",
     "text": [
      "1 0.3145904485168454\n",
      "2 0.32797930610480586\n",
      "3 0.33733973643324583\n",
      "5 0.3466411808627137\n",
      "10 0.3549214218136544\n",
      "30 0.3646490686485507\n",
      "100 0.3642004554245304\n",
      "1000 0.37564767614940037\n",
      "10000 0.3082733215942566\n"
     ]
    }
   ],
   "source": [
    "import numpy as np\n",
    "\n",
    "def estimate_sigma(offset: int):\n",
    "    nums = []\n",
    "    for i in range(offset, len(lst)):\n",
    "        nums.append(float(lst[i][1]) - float(lst[i-offset][1]))\n",
    "    variance = np.var(nums)\n",
    "    sigma = (variance / offset) ** 0.5\n",
    "    return sigma\n",
    "\n",
    "for offset in [1, 2, 3, 5, 10, 30, 100, 1000, 10000]:\n",
    "    print(offset, estimate_sigma(offset=offset))\n",
    "    "
   ]
  },
  {
   "cell_type": "markdown",
   "id": "0f87354e-f257-4b7f-819b-1266f08a6a06",
   "metadata": {},
   "source": [
    "## The optimizing agent with finite-horizon\n",
    "\n",
    "The agent’s objective is to maximize the expected\n",
    "exponential utility of his P&L profile at a terminal\n",
    "time $T$.\n",
    "\n",
    "We first model an inactive trader who does not have\n",
    "any limit orders in the market and simply holds an\n",
    "inventory of $q$ stocks until the terminal time $T$. The agent's value function (效用函数) is\n",
    "\n",
    "$$\n",
    "v(x,s,q,t) = \\mathbb{E}_{t}[-\\exp(-\\gamma(x+qS_{T}))]$$\n",
    "\n",
    "where $x$ is the initial wealth in dollars.\n",
    "\n",
    "```{tip}\n",
    "![](images/as.png)\n",
    "```\n",
    "\n",
    "![](images/as1.svg)\n",
    "\n",
    "This value function\n",
    "can be written as:\n",
    "\n",
    "$$v(x, s, q, t) = -\\exp(-\\gamma x)\\exp(-\\gamma qs)\\exp\\left(\\frac{\\gamma^{2}q^{2}\\sigma^{2}(T-t)}{2}\\right)$$\n",
    "\n",
    "```{tip}\n",
    "Proof:<br>\n",
    "![](images/as2.png)\n",
    "```\n",
    "\n",
    "We may now define the reservation bid and ask prices\n",
    "for the agent. The reservation bid price is the price that\n",
    "would make the agent indifferent between his current\n",
    "portfolio and his current portfolio plus one stock.\n",
    "The reservation ask price is defined similarly below. (以 reservation bid price 买入1股票满意度不变)\n",
    "\n",
    "**Definition 1**. Let $v$ be the value function of the agent. His reservation bid price $r^{b}$ is given implicitly by the relation:\n",
    "\n",
    "$$v(x-r^{b}(s, q, t), s, q+1, t) = v(x, s, q, t)$$\n",
    "\n",
    "The reservation ask price $r^{a}$ solves:\n",
    "\n",
    "$$v(x+r^{a}(s, q, t), s, q-1, t) = v(x, s, q, t)$$\n",
    "\n",
    "A simple computation yields a closed-form expression for the two prices:\n",
    "\n",
    "$$r^{b}(s, q, t) = s + (-1-2q)\\frac{\\gamma\\sigma^{2}(T-t)}{2}$$\n",
    "\n",
    "$$r^{a}(s, q, t) = s + (1-2q)\\frac{\\gamma\\sigma^{2}(T-t)}{2}$$\n",
    "\n",
    "in the setting where no trading is allowed. We will refer to\n",
    "the average of these two prices as the reservation or\n",
    "indifference price\n",
    "\n",
    "$$r(s, q, t) = s - q\\gamma\\sigma^{2}(T-t)$$\n",
    "\n",
    "given that the agent is holding $q$ stocks.\n",
    "\n",
    "```{note}\n",
    "This price is an\n",
    "adjustment to the mid-price, which accounts for the\n",
    "inventory held by the agent. If the agent is long stock\n",
    "$(q>0)$, the reservation price is below the mid-price,\n",
    "indicating a desire to liquidate the inventory by selling\n",
    "stock. On the other hand, if the agent is short stock\n",
    "$(q<0)$, the reservation price is above the mid-price, since\n",
    "the agent is willing to buy stock at a higher price.\n",
    "```\n",
    "\n",
    "```{tip}\n",
    "$$v(x-r^{\\Delta{q}}(s, q, t)\\Delta{q}, s, q+\\Delta{q}, t) = v(x, s, q, t)$$\n",
    "\n",
    "leed to:\n",
    "\n",
    "$$r^{\\Delta{q}}(s, q, t) = s + (-\\Delta{q}-2q)\\frac{\\gamma\\sigma^{2}(T-t)}{2}$$\n",
    "\n",
    "so we have:\n",
    "\n",
    "$$\\frac{r^{\\Delta{q}}(s, q, t) + r^{-\\Delta{q}}(s, q, t)}{2} = s - q\\gamma\\sigma^{2}(T-t)$$\n",
    "```"
   ]
  },
  {
   "cell_type": "code",
   "execution_count": 3,
   "id": "acc6411d-e50f-4f26-b1a0-5b94a27f5f33",
   "metadata": {},
   "outputs": [],
   "source": [
    "prices = [float(item[1]) for item in lst]\n",
    "\n",
    "def get_indifference_price(q, gamma, sigma):\n",
    "    result = []\n",
    "    for i, price in enumerate(prices):\n",
    "        # terminal every 8 hours\n",
    "        time_diff = (86400 - i - 1) % (60 * 60 * 8)\n",
    "        result.append(price - q * gamma * (sigma ** 2) * time_diff)\n",
    "    return result\n",
    "\n",
    "l1 = get_indifference_price(q=1, gamma=0.01, sigma=0.3)"
   ]
  },
  {
   "cell_type": "code",
   "execution_count": 4,
   "id": "483a1522-c2f8-4a1a-bc89-57170aba4c56",
   "metadata": {
    "tags": []
   },
   "outputs": [
    {
     "data": {
      "image/png": "[encoded data removed]",
      "text/plain": [
       "<Figure size 432x288 with 1 Axes>"
      ]
     },
     "metadata": {
      "needs_background": "light"
     },
     "output_type": "display_data"
    }
   ],
   "source": [
    "%matplotlib inline\n",
    "import matplotlib.pyplot as plt\n",
    "\n",
    "plt.plot(np.arange(len(lst)), prices, label='mid')\n",
    "plt.plot(np.arange(len(lst)), l1, label='q=1,gamma=0.01,sigma=0.3')\n",
    "plt.legend()\n",
    "plt.show()"
   ]
  },
  {
   "cell_type": "markdown",
   "id": "0c9ae9a5-ea19-4a2b-8097-31bd348b7777",
   "metadata": {},
   "source": [
    "```{note}\n",
    "When $q>\\frac{1}{2}$:\n",
    "\n",
    "* If buy at mid price $s$, inventory from $q$ to $q+1$, more risky, lower the buy price!\n",
    "\n",
    "* If sell at mid price $s$, inventory from $q$ to $q-1$, release inventory pressure, willing to accept lower sell price.\n",
    "```"
   ]
  },
  {
   "cell_type": "code",
   "execution_count": null,
   "id": "e0d26232-2bab-480f-8738-9582265500f7",
   "metadata": {},
   "outputs": [],
   "source": []
  }
 ],
 "metadata": {
  "kernelspec": {
   "display_name": "Python 3",
   "language": "python",
   "name": "python3"
  },
  "language_info": {
   "codemirror_mode": {
    "name": "ipython",
    "version": 3
   },
   "file_extension": ".py",
   "mimetype": "text/x-python",
   "name": "python",
   "nbconvert_exporter": "python",
   "pygments_lexer": "ipython3",
   "version": "3.8.3"
  }
 },
 "nbformat": 4,
 "nbformat_minor": 5
}
