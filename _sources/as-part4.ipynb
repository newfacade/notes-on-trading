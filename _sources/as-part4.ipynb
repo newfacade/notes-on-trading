{
 "cells": [
  {
   "cell_type": "markdown",
   "id": "6c0674fc-9355-4902-8e19-d62ac9ce46b8",
   "metadata": {},
   "source": [
    "# Avellaneda-Stoikov Model - Part4\n",
    "\n",
    "```{note}\n",
    "The solution!\n",
    "```"
   ]
  },
  {
   "cell_type": "markdown",
   "id": "f3caa89f-ca91-42be-96ba-656869529253",
   "metadata": {},
   "source": [
    "## Asymptotic expansion in $q$"
   ]
  },
  {
   "cell_type": "code",
   "execution_count": null,
   "id": "73460101-d859-4999-903e-375894eb88be",
   "metadata": {},
   "outputs": [],
   "source": []
  }
 ],
 "metadata": {
  "kernelspec": {
   "display_name": "Python 3",
   "language": "python",
   "name": "python3"
  },
  "language_info": {
   "codemirror_mode": {
    "name": "ipython",
    "version": 3
   },
   "file_extension": ".py",
   "mimetype": "text/x-python",
   "name": "python",
   "nbconvert_exporter": "python",
   "pygments_lexer": "ipython3",
   "version": "3.8.3"
  }
 },
 "nbformat": 4,
 "nbformat_minor": 5
}
