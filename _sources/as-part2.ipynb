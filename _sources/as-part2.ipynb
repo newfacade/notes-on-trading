{
 "cells": [
  {
   "cell_type": "markdown",
   "id": "a4b27ad3-c47d-45cc-bde7-a46c7ab8dc66",
   "metadata": {},
   "source": [
    "# Avellaneda-Stoikov Model - Part2\n",
    "\n",
    "```{note}\n",
    "We now turn to an agent who can trade in the stock\n",
    "through limit orders that he sets around the mid-price\n",
    "given by $\\mathrm{d}S_{u} = \\sigma\\mathrm{d}W_{u}$.\n",
    "```"
   ]
  },
  {
   "cell_type": "markdown",
   "id": "44a05301-6b4d-4684-92d8-05acd73a3652",
   "metadata": {},
   "source": [
    "## Limit order\n",
    "\n",
    "The agent quotes the bid price $p^{b}$ and the ask price $p^{a}$, and is committed to respectively buy and sell one\n",
    "share of stock at these prices. These limit orders $p^b$ and $p^a$ can be\n",
    "continuously updated at no cost.The distances are:\n",
    "\n",
    "$$\\delta^{b} = s - p^{b},$$\n",
    "\n",
    "$$\\delta^{a} = p^{a} - s.$$\n",
    "\n",
    "when a large market order to buy $Q$ stocks arrives, the $Q$ limit orders with the lowest ask\n",
    "prices will automatically execute. If $p^{Q}$ is the price of the highest\n",
    "limit order executed in this trade, we define\n",
    "\n",
    "$$\\Delta{p} = p^{Q} - s$$\n",
    "\n",
    "to be the temporary market impact of the trade of size $Q$. If our agent’s limit order is within the range of this market\n",
    "order, i.e. if $\\delta^{a}<\\Delta{p}$, his limit order will be executed.\n",
    "\n",
    "We assume that market buy orders will ‘lift’ our agent’s\n",
    "sell limit orders at Poisson rate $\\lambda^{a}(\\delta^{a})$, a decreasing\n",
    "function of $\\delta^{a}$. Likewise, orders to sell stock will ‘hit’ the\n",
    "agent’s buy limit order at Poisson rate $\\lambda^{b}(\\delta^{b})$, a decreasing\n",
    "function of $\\delta^{b}$. Intuitively, the further away from the midprice\n",
    "the agent positions his quotes, the less often he will\n",
    "receive buy and sell orders.\n",
    "\n",
    "```{tip}\n",
    "![](images/as3.png)\n",
    "```\n",
    "\n",
    "```{tip}\n",
    "![](images/as4.png)\n",
    "```\n",
    "\n",
    "![](images/as2.svg)\n",
    "\n",
    "The wealth and inventory are now stochastic and\n",
    "depend on the arrival of market sell and buy orders.\n",
    "Indeed, the wealth in cash jumps every time there is a buy\n",
    "or sell order\n",
    "\n",
    "$$\\mathrm{d}X_{t} = p^{a}\\mathrm{d}N_{t}^{a} - p^{b}\\mathrm{d}N_{t}^{b}$$\n",
    "\n",
    "where $N_{t}^{b}$ is the amount of stocks bought by the agent and\n",
    "$N_{t}^{a}$ is the amount of stocks sold. $N_{t}^{b}$ and $N_{t}^{a}$ are Poisson\n",
    "processes with intensities $\\lambda^{b}$ and $\\lambda^{a}$. The number of stocks\n",
    "held at time $t$ is\n",
    "\n",
    "$$q_{t} = N_{t}^{b} - N_{t}^{a}.$$\n",
    "\n",
    "The objective of the agent who can set limit orders is:\n",
    "\n",
    "$$u(s, x, q, t) = \\max_{\\delta^{a},\\delta^{b}}\\mathbb{E}_{t}[-\\exp(-\\gamma(X_{T} + q_{T}S_{T}))]$$\n",
    "\n",
    "Before turning to the solution of this problem, we\n",
    "consider some realistic functional forms for the intensities $\\lambda^{a}(\\delta^{a})$ and $\\lambda^{b}(\\delta^{b})$ inspired by recent results in the\n",
    "econophysics literature.\n",
    "\n",
    "```{caution}\n",
    "$\\delta^{a}$ and $\\delta^{b}$ are time and state dependent.\n",
    "```"
   ]
  },
  {
   "cell_type": "markdown",
   "id": "e90fde01-ea21-4b96-9b0a-c86c6f2b5c85",
   "metadata": {},
   "source": [
    "## The trading intensity\n",
    "\n",
    "One of the main objectives of the econophysics community\n",
    "has been to describe the laws governing the\n",
    "microstructure of financial markets. Here, we will be\n",
    "focusing on the results which address the Poisson\n",
    "intensity $\\lambda$ with which a limit order will be executed as\n",
    "a function of its distance $\\delta$ to the mid-price. In order to\n",
    "quantify this, we need to know statistics on:\n",
    "\n",
    "1. the overall\n",
    "frequency of market orders,\n",
    "2. the distribution of their\n",
    "size,\n",
    "3. the temporary impact of a large market\n",
    "order.\n",
    "\n",
    "For simplicity, we assume a constant frequency $\\Lambda$ of\n",
    "market buy or sell orders.\n",
    "\n",
    "The distribution of the size of market orders has been\n",
    "found by several studies to obey a power law. In other\n",
    "words, the density of market order size is\n",
    "\n",
    "$$f^{Q}(x)\\propto x^{-1-\\alpha}\\quad\\text{note: }\\propto\\text{ means proportion to}$$\n",
    "\n",
    "for large $x$, with $\\alpha=1.53$ for US stocks.\n",
    "\n",
    "On the statistics of the market impact in the econophysics literature. Some authors find that the change in price $\\Delta{p}$ following a market order of size $Q$ is given by\n",
    "\n",
    "$$\\Delta{p}\\propto Q^{\\beta},$$\n",
    "\n",
    "Some authors find a better fit to the function\n",
    "\n",
    "$$\\Delta{p}\\propto\\ln(Q).$$\n",
    "\n",
    "Aggregating this information, we may derive the\n",
    "Poisson intensity at which our agent’s orders are\n",
    "executed:\n",
    "\n",
    "$$\n",
    "\\begin{aligned}\n",
    "\\lambda(\\delta) &= \\Lambda P(\\Delta p>\\delta) \\\\\n",
    "&= \\Lambda P(\\ln(Q)>K\\delta) \\\\\n",
    "&= \\Lambda P(Q>\\exp(K\\delta)) \\\\\n",
    "&= \\Lambda \\int_{\\exp(K\\delta)}^{\\infty}x^{-1-\\alpha}\\mathrm{d}x\\\\\n",
    "&= A\\exp(-k\\delta)\n",
    "\\end{aligned}\n",
    "$$\n",
    "\n",
    "where $A=\\Lambda/\\alpha$ and $k=\\alpha K$."
   ]
  },
  {
   "cell_type": "code",
   "execution_count": 1,
   "id": "3cf543fd-df49-4883-aef0-995afee897d3",
   "metadata": {},
   "outputs": [
    {
     "name": "stdout",
     "output_type": "stream",
     "text": [
      "86400\n",
      "[1716912000000, '3861.10000000', '3861.11000000', '3861.10000000', '3861.11000000', '0.36010000', 1716912000999, '1390.38375800', 21, '0.16480000', '636.31092800', '0']\n"
     ]
    }
   ],
   "source": [
    "from utils import *\n",
    "\n",
    "lst = read_jsonl('2024-05-29.json')\n",
    "show_list(lst)"
   ]
  },
  {
   "cell_type": "code",
   "execution_count": 2,
   "id": "f1e22865-7a96-468c-a9da-d50d0a1d10e8",
   "metadata": {
    "tags": []
   },
   "outputs": [],
   "source": [
    "import numpy as np\n",
    "\n",
    "\n",
    "def get_probs(diffs):\n",
    "    result = []\n",
    "    for diff in diffs:\n",
    "        cnt = 0\n",
    "        for item in lst:\n",
    "            mid, high, low = float(item[1]), float(item[2]), float(item[3])\n",
    "            if diff >= 0 and high - mid > diff:\n",
    "                cnt += 1\n",
    "            elif diff < 0 and low - mid < diff:\n",
    "                cnt += 1\n",
    "        result.append(cnt/len(lst))\n",
    "    return np.array(result)\n",
    "\n",
    "x = np.arange(0, 2, 0.01)\n",
    "pos = get_probs(x)\n",
    "neg = get_probs(-x)"
   ]
  },
  {
   "cell_type": "code",
   "execution_count": 3,
   "id": "333f2164-e912-418e-9496-646aa5836e21",
   "metadata": {
    "tags": []
   },
   "outputs": [
    {
     "data": {
      "image/png": "[encoded data removed]",
      "text/plain": [
       "<Figure size 432x288 with 1 Axes>"
      ]
     },
     "metadata": {
      "needs_background": "light"
     },
     "output_type": "display_data"
    }
   ],
   "source": [
    "import matplotlib.pyplot as plt\n",
    "\n",
    "plt.plot(x[2:], pos[2:], label='pos prob')\n",
    "plt.plot(x[2:], neg[2:], label='neg prob')\n",
    "plt.legend()\n",
    "plt.xlabel('delta')\n",
    "plt.ylabel('prob')\n",
    "plt.show()"
   ]
  },
  {
   "cell_type": "code",
   "execution_count": 4,
   "id": "7553a68a-e533-4522-a642-98216b4a136d",
   "metadata": {
    "tags": []
   },
   "outputs": [],
   "source": [
    "nums = (pos[2:] + neg[2:]) / 2"
   ]
  },
  {
   "cell_type": "code",
   "execution_count": 5,
   "id": "d9798048-cbe2-4217-b392-aaae1d8d1470",
   "metadata": {
    "tags": []
   },
   "outputs": [
    {
     "name": "stdout",
     "output_type": "stream",
     "text": [
      "A = 0.16590499485851926, k = 2.8564179229240696\n"
     ]
    },
    {
     "data": {
      "image/png": "[encoded data removed]",
      "text/plain": [
       "<Figure size 432x288 with 1 Axes>"
      ]
     },
     "metadata": {
      "needs_background": "light"
     },
     "output_type": "display_data"
    }
   ],
   "source": [
    "from scipy.optimize import curve_fit\n",
    "\n",
    "# 定义拟合函数\n",
    "def exponential_func(delta, A, k):\n",
    "    return A * np.exp(-k * delta)\n",
    "\n",
    "# 使用curve_fit进行拟合\n",
    "params, covariance = curve_fit(exponential_func, x[2:], nums)\n",
    "\n",
    "# 获取拟合参数\n",
    "A, k = params\n",
    "\n",
    "print(f\"A = {A}, k = {k}\")\n",
    "\n",
    "# 绘制原始数据和拟合曲线\n",
    "plt.scatter(x[2:], nums, label=\"Original Data\")\n",
    "plt.plot(x[2:], exponential_func(x[2:], A, k), label=f\"Fitted Curve: A={A:.4f}, k={k:.4f}\", color='red')\n",
    "plt.xlabel(\"i\")\n",
    "plt.ylabel(\"nums[i]\")\n",
    "plt.legend()\n",
    "plt.show()"
   ]
  },
  {
   "cell_type": "code",
   "execution_count": null,
   "id": "1e2dee2a-b131-4ecf-9f9b-c1b3b98a953b",
   "metadata": {},
   "outputs": [],
   "source": []
  }
 ],
 "metadata": {
  "kernelspec": {
   "display_name": "Python 3",
   "language": "python",
   "name": "python3"
  },
  "language_info": {
   "codemirror_mode": {
    "name": "ipython",
    "version": 3
   },
   "file_extension": ".py",
   "mimetype": "text/x-python",
   "name": "python",
   "nbconvert_exporter": "python",
   "pygments_lexer": "ipython3",
   "version": "3.8.3"
  }
 },
 "nbformat": 4,
 "nbformat_minor": 5
}
