{
 "cells": [
  {
   "cell_type": "markdown",
   "id": "a4b27ad3-c47d-45cc-bde7-a46c7ab8dc66",
   "metadata": {},
   "source": [
    "# Avellaneda-Stoikov Model - Part2\n",
    "\n",
    "```{note}\n",
    "We now turn to an agent who can trade in the stock\n",
    "through limit orders that he sets around the mid-price\n",
    "given by $\\mathrm{d}S_{u} = \\sigma\\mathrm{d}W_{u}$.\n",
    "```"
   ]
  },
  {
   "cell_type": "markdown",
   "id": "44a05301-6b4d-4684-92d8-05acd73a3652",
   "metadata": {},
   "source": [
    "## Limit order\n",
    "\n",
    "The agent quotes the bid price $p^{b}$ and the ask price $p^{a}$, and is committed to respectively buy and sell one\n",
    "share of stock at these prices. These limit orders $p^b$ and $p^a$ can be\n",
    "continuously updated at no cost.The distances are:\n",
    "\n",
    "$$\\delta^{b} = s - p^{b},$$\n",
    "\n",
    "$$\\delta^{a} = p^{a} - s.$$\n",
    "\n",
    "when a large market order to buy $Q$ stocks arrives, the $Q$ limit orders with the lowest ask\n",
    "prices will automatically execute. If $p^{Q}$ is the price of the highest\n",
    "limit order executed in this trade, we define\n",
    "\n",
    "$$\\Delta{p} = p^{Q} - s$$\n",
    "\n",
    "to be the temporary market impact of the trade of size $Q$. If our agent’s limit order is within the range of this market\n",
    "order, i.e. if $\\delta^{a}<\\Delta{p}$, his limit order will be executed.\n",
    "\n",
    "We assume that market buy orders will ‘lift’ our agent’s\n",
    "sell limit orders at Poisson rate $\\lambda^{a}(\\delta^{a})$, a decreasing\n",
    "function of $\\delta^{a}$. Likewise, orders to sell stock will ‘hit’ the\n",
    "agent’s buy limit order at Poisson rate $\\lambda^{b}(\\delta^{b})$, a decreasing\n",
    "function of $\\delta^{b}$. Intuitively, the further away from the midprice\n",
    "the agent positions his quotes, the less often he will\n",
    "receive buy and sell orders.\n",
    "\n",
    "```{tip}\n",
    "![](images/as3.png)\n",
    "```\n",
    "\n",
    "```{tip}\n",
    "![](images/as4.png)\n",
    "```\n",
    "\n",
    "The wealth and inventory are now stochastic and\n",
    "depend on the arrival of market sell and buy orders.\n",
    "Indeed, the wealth in cash jumps every time there is a buy\n",
    "or sell order\n",
    "\n",
    "$$\\mathrm{d}X_{t} = p^{a}\\mathrm{d}N_{t}^{a} - p^{b}\\mathrm{d}N_{t}^{b}$$\n",
    "\n",
    "where $N_{t}^{b}$ is the amount of stocks bought by the agent and\n",
    "$N_{t}^{a}$ is the amount of stocks sold. $N_{t}^{b}$ and $N_{t}^{a}$ are Poisson\n",
    "processes with intensities $\\lambda^{b}$ and $\\lambda^{a}$. The number of stocks\n",
    "held at time $t$ is\n",
    "\n",
    "$$q_{t} = N_{t}^{b} - N_{t}^{a}.$$\n",
    "\n",
    "The objective of the agent who can set limit orders is:\n",
    "\n",
    "$$u(s, x, q, t) = \\max_{\\delta^{a},\\delta^{b}}\\mathbb{E}_{t}[-\\exp(-\\gamma(X_{T} + q_{T}S_{T}))]$$"
   ]
  },
  {
   "cell_type": "markdown",
   "id": "e90fde01-ea21-4b96-9b0a-c86c6f2b5c85",
   "metadata": {},
   "source": [
    "## The trading intensity"
   ]
  },
  {
   "cell_type": "code",
   "execution_count": null,
   "id": "3cf543fd-df49-4883-aef0-995afee897d3",
   "metadata": {},
   "outputs": [],
   "source": []
  }
 ],
 "metadata": {
  "kernelspec": {
   "display_name": "Python 3 (ipykernel)",
   "language": "python",
   "name": "python3"
  },
  "language_info": {
   "codemirror_mode": {
    "name": "ipython",
    "version": 3
   },
   "file_extension": ".py",
   "mimetype": "text/x-python",
   "name": "python",
   "nbconvert_exporter": "python",
   "pygments_lexer": "ipython3",
   "version": "3.11.5"
  }
 },
 "nbformat": 4,
 "nbformat_minor": 5
}
